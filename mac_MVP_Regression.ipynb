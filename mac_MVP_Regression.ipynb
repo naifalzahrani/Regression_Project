{
 "cells": [
  {
   "cell_type": "code",
   "execution_count": 1,
   "id": "d3f1275e",
   "metadata": {},
   "outputs": [],
   "source": [
    "from bs4 import BeautifulSoup\n",
    "import requests\n",
    "import pandas as pd\n",
    "import time, os\n",
    "from selenium import webdriver\n",
    "from selenium.webdriver.common.keys import Keys"
   ]
  },
  {
   "cell_type": "code",
   "execution_count": 13,
   "id": "fa45f1a4",
   "metadata": {},
   "outputs": [],
   "source": [
    "# This will create a list of URL to be scraped\n",
    "\n",
    "my_url = \"https://www.nass.usda.gov/Quick_Stats/Ag_Overview/stateOverview.php?state=\"\n",
    "\n",
    "states_list=[\"Alabama\",\"Alaska\",\"Arizona\",\"Arkansas\",\"California\",\"Colorado\",\n",
    "  \"Connecticut\",\"Delaware\",\"Florida\",\"Georgia\",\"Hawaii\",\"Idaho\",\"Illinois\",\n",
    "  \"Indiana\",\"Iowa\",\"Kansas\",\"Kentucky\",\"Louisiana\",\"Maryland\",\n",
    "  \"Massachusetts\",\"Michigan\",\"Minnesota\",\"Mississippi\",\"Missouri\",\"Montana\",\n",
    "  \"Nebraska\",\"Nevada\",\"NEW%20HAMPSHIRE\",\"NEW%20MEXICO\",\"New%20York\",\n",
    "  \"North%20Carolina\",\"North%20Dakota\",\"Ohio\",\"Oklahoma\",\"Oregon\",\"Pennsylvania\",\n",
    "  \"South%20Carolina\",\"South%20Dakota\",\"Tennessee\",\"Texas\",\"Utah\",\n",
    "  \"Vermont\",\"Virginia\",\"Washington\",\"WEST%20VIRGINIA\",\"Wisconsin\",\"Wyoming\"]\n",
    "\n",
    "year_list_num= [*range(2000,2021,1)]\n",
    "years_list= [str(x) for (x) in year_list_num]\n",
    "\n",
    "# This the list of url\n",
    "url_list=[]\n",
    "for state in states_list:\n",
    "    my_query = my_url + state\n",
    "    for year in years_list:\n",
    "        new_url = my_query +'&year=' + year\n",
    "        url_list.append(new_url)\n",
    "       "
   ]
  },
  {
   "cell_type": "code",
   "execution_count": 10,
   "id": "27aebcc8",
   "metadata": {},
   "outputs": [],
   "source": [
    "def get_value(url):\n",
    "    driver.get(url)\n",
    "    dic={}\n",
    "    x= driver.find_element_by_xpath('/html/body/div/div[1]').text\n",
    "    State= x.strip()\n",
    "    Area_Operated= driver.find_element_by_xpath(\"/html/body/div/div[3]/div[1]/table[1]/tbody/tr[1]/td[2]\").text\n",
    "    Num_of_Operations= driver.find_element_by_xpath(\"/html/body/div/div[3]/div[1]/table[1]/tbody/tr[2]/td[2]\").text\n",
    "    Acres_Operated= driver.find_element_by_xpath(\"/html/body/div/div[3]/div[1]/table[1]/tbody/tr[3]/td[2]\").text\n",
    "    Cows_Beef= driver.find_element_by_xpath(\"/html/body/div/div[3]/div[1]/table[2]/tbody/tr[1]/td[2]\").text\n",
    "    Cows_Milk = driver.find_element_by_xpath(\"/html/body/div/div[3]/div[1]/table[2]/tbody/tr[2]/td[2]\").text\n",
    "    Calves= driver.find_element_by_xpath(\"/html/body/div/div[3]/div[1]/table[2]/tbody/tr[3]/td[2]\").text\n",
    "    Milk_Per_head= driver.find_element_by_xpath(\"/html/body/div/div[3]/div[1]/table[3]/tbody/tr[1]/td[2]\").text\n",
    "    Milk_production= driver.find_element_by_xpath(\"/html/body/div/div[3]/div[1]/table[3]/tbody/tr[3]/td[2]\").text\n",
    "    \n",
    "    dic={'State':State,'Area_Operated':Area_Operated, 'Num_of_Operations':Num_of_Operations,\n",
    "            'Acres_Operated':Acres_Operated, 'Cows_for_Milk': Cows_Milk, 'Cows_Beef': Cows_Beef,'Calves':Calves ,'Milk_Per_head':Milk_Per_head,\n",
    "                 'Total_Milk_production':Milk_production }\n",
    "\n",
    "    return dic"
   ]
  },
  {
   "cell_type": "code",
   "execution_count": 12,
   "id": "9e479ae7",
   "metadata": {},
   "outputs": [
    {
     "data": {
      "text/plain": [
       "{'State': 'New Hampshire',\n",
       " 'Area_Operated': '132',\n",
       " 'Num_of_Operations': '3,400',\n",
       " 'Acres_Operated': '450,000',\n",
       " 'Cows_for_Milk': '17,000',\n",
       " 'Cows_Beef': '4,000',\n",
       " 'Calves': '40,000',\n",
       " 'Milk_Per_head': '18,222',\n",
       " 'Total_Milk_production': '328,000,000'}"
      ]
     },
     "execution_count": 12,
     "metadata": {},
     "output_type": "execute_result"
    }
   ],
   "source": [
    "get_value('https://www.nass.usda.gov/Quick_Stats/Ag_Overview/stateOverview.php?state=NEW%20HAMPSHIRE&year=2002')"
   ]
  },
  {
   "cell_type": "code",
   "execution_count": 5,
   "id": "9573065b",
   "metadata": {
    "scrolled": true
   },
   "outputs": [],
   "source": [
    "\n",
    "chromedriver = \"/Users/naifalzahrani/Downloads/chromedriver\" # path to the chromedriver executable\n",
    "os.environ[\"webdriver.chrome.driver\"] = chromedriver"
   ]
  },
  {
   "cell_type": "code",
   "execution_count": 8,
   "id": "27c5b064",
   "metadata": {},
   "outputs": [],
   "source": [
    "driver = webdriver.Chrome(chromedriver)\n",
    "# driver.get('https://www.nass.usda.gov/Quick_Stats/Ag_Overview/stateOverview.php?state=iowa&year=2017')"
   ]
  },
  {
   "cell_type": "code",
   "execution_count": 14,
   "id": "0fb333db",
   "metadata": {
    "scrolled": false
   },
   "outputs": [],
   "source": [
    "from selenium.common.exceptions import NoSuchElementException\n",
    "\n",
    "data = []\n",
    "url_list\n",
    "for page in url_list:\n",
    "  try:\n",
    "    time.sleep(1)\n",
    "    data.append(get_value(page))\n",
    "    \n",
    "  except NoSuchElementException:\n",
    "    # Just append a None or \"\"\n",
    "    data.append(None)"
   ]
  },
  {
   "cell_type": "code",
   "execution_count": 15,
   "id": "7bf9e7be",
   "metadata": {},
   "outputs": [],
   "source": [
    "# removing the none values\n",
    "new_data=[x for x in data if x is not None]\n",
    "\n",
    "    \n"
   ]
  },
  {
   "cell_type": "code",
   "execution_count": 19,
   "id": "2fde976b",
   "metadata": {},
   "outputs": [
    {
     "name": "stdout",
     "output_type": "stream",
     "text": [
      "<class 'pandas.core.frame.DataFrame'>\n",
      "RangeIndex: 983 entries, 0 to 982\n",
      "Data columns (total 9 columns):\n",
      " #   Column                 Non-Null Count  Dtype \n",
      "---  ------                 --------------  ----- \n",
      " 0   State                  983 non-null    object\n",
      " 1   Area_Operated          983 non-null    object\n",
      " 2   Num_of_Operations      983 non-null    object\n",
      " 3   Acres_Operated         983 non-null    object\n",
      " 4   Cows_for_Milk          983 non-null    object\n",
      " 5   Cows_Beef              983 non-null    object\n",
      " 6   Calves                 983 non-null    object\n",
      " 7   Milk_Per_head          983 non-null    object\n",
      " 8   Total_Milk_production  983 non-null    object\n",
      "dtypes: object(9)\n",
      "memory usage: 69.2+ KB\n"
     ]
    }
   ],
   "source": [
    "df."
   ]
  },
  {
   "cell_type": "code",
   "execution_count": 21,
   "id": "cdc19ef8",
   "metadata": {},
   "outputs": [],
   "source": [
    "df= pd.DataFrame(new_data)\n",
    "df.to_excel('Milk_production_4.xlsx')"
   ]
  },
  {
   "cell_type": "code",
   "execution_count": null,
   "id": "4adfae69",
   "metadata": {},
   "outputs": [],
   "source": [
    "# def get_values(url):\n",
    "#     driver.get(url)\n",
    "#     tablelist=[]\n",
    "    x= driver.find_element_by_xpath('/html/body/div/div[1]').text\n",
    "    State= x.strip()\n",
    "#     Area_Operated= driver.find_element_by_xpath(\"/html/body/div/div[3]/div[1]/table[1]/tbody/tr[1]/td[2]\").text\n",
    "#     Num_of_Operations= driver.find_element_by_xpath(\"/html/body/div/div[3]/div[1]/table[1]/tbody/tr[2]/td[2]\").text\n",
    "#     Acres_Operated= driver.find_element_by_xpath(\"/html/body/div/div[3]/div[1]/table[1]/tbody/tr[3]/td[2]\").text\n",
    "#     Cows_Beef= driver.find_element_by_xpath(\"/html/body/div/div[3]/div[1]/table[2]/tbody/tr[1]/td[2]\").text\n",
    "#     Cows_Milk = driver.find_element_by_xpath(\"/html/body/div/div[3]/div[1]/table[2]/tbody/tr[2]/td[2]\").text\n",
    "#     Calves= driver.find_element_by_xpath(\"/html/body/div/div[3]/div[1]/table[2]/tbody/tr[3]/td[2]\").text\n",
    "#     Milk_Per_head= driver.find_element_by_xpath(\"/html/body/div/div[3]/div[1]/table[3]/tbody/tr[1]/td[2]\").text\n",
    "#     Milk_production= driver.find_element_by_xpath(\"/html/body/div/div[3]/div[1]/table[3]/tbody/tr[3]/td[2]\").text\n",
    "    \n",
    "#     farms_table={'State':State,'Area_Operated':Area_Operated, 'Num_of_Operations':Num_of_Operations,\n",
    "#             'Acres_Operated':Acres_Operated, 'Cows_for_Milk': Cows_Milk, 'Cows_Beef': Cows_Beef,'Calves':Calves ,'Milk_Per_head':Milk_Per_head,\n",
    "#                  'Total_Milk_production':Milk_production }\n",
    "#     tablelist.append(farms_table)\n",
    "#     return tablelist"
   ]
  },
  {
   "cell_type": "code",
   "execution_count": null,
   "id": "0ef9127c",
   "metadata": {},
   "outputs": [],
   "source": [
    "from sklearn.linear_model import LinearRegression\n",
    "import pandas as pd\n",
    "import seaborn as sns\n",
    "from sklearn.model_selection import train_test_split\n",
    "\n",
    "sns.set()\n",
    "mdf = pd.read_csv('Milk_production_2')"
   ]
  },
  {
   "cell_type": "code",
   "execution_count": null,
   "id": "da281d59",
   "metadata": {},
   "outputs": [],
   "source": [
    "\n",
    "\n",
    "num = 0\n",
    "for i in mdf.columns:\n",
    "   num += mdf[i][mdf[i]==0].count()\n",
    "num"
   ]
  },
  {
   "cell_type": "code",
   "execution_count": null,
   "id": "4b62c8f4",
   "metadata": {},
   "outputs": [],
   "source": [
    "# df = df.apply(pd.to_numeric) # convert all columns of DataFrame\n",
    "# df['x']=df['x'].str.replace(',','')\n",
    "c= mdf.columns\n",
    "mdf[c] = mdf[c].replace(',', '', regex=True)\n",
    "\n",
    "\n"
   ]
  },
  {
   "cell_type": "code",
   "execution_count": null,
   "id": "df7613a8",
   "metadata": {},
   "outputs": [],
   "source": [
    "mdf= mdf.apply(pd.to_numeric)"
   ]
  },
  {
   "cell_type": "code",
   "execution_count": null,
   "id": "8e318116",
   "metadata": {},
   "outputs": [],
   "source": [
    "\n",
    "m = LinearRegression()\n",
    "m.fit(mdf[['Area_Operated','Num_of_Operations','Acres_Operated','Cows_for_Milk','Calves', 'Milk_Per_head']],mdf['Total_Milk_production'])\n",
    "m.score(mdf[['Area_Operated','Num_of_Operations','Acres_Operated','Cows_for_Milk','Calves', 'Milk_Per_head']],mdf['Total_Milk_production'])"
   ]
  },
  {
   "cell_type": "code",
   "execution_count": null,
   "id": "beac749f",
   "metadata": {
    "scrolled": true
   },
   "outputs": [],
   "source": [
    "mdf.tail(100)"
   ]
  },
  {
   "cell_type": "code",
   "execution_count": null,
   "id": "da928e09",
   "metadata": {
    "scrolled": true
   },
   "outputs": [],
   "source": [
    "mdf.corr()"
   ]
  },
  {
   "cell_type": "code",
   "execution_count": null,
   "id": "44e82fa4",
   "metadata": {},
   "outputs": [],
   "source": [
    "sns.pairplot(mdf)"
   ]
  }
 ],
 "metadata": {
  "kernelspec": {
   "display_name": "Python 3",
   "language": "python",
   "name": "python3"
  },
  "language_info": {
   "codemirror_mode": {
    "name": "ipython",
    "version": 3
   },
   "file_extension": ".py",
   "mimetype": "text/x-python",
   "name": "python",
   "nbconvert_exporter": "python",
   "pygments_lexer": "ipython3",
   "version": "3.8.8"
  }
 },
 "nbformat": 4,
 "nbformat_minor": 5
}
